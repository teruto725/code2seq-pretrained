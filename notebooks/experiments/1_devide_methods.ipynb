{
 "cells": [
  {
   "cell_type": "markdown",
   "metadata": {},
   "source": [
    "# メソッド分離\n",
    "やっていること\n",
    "1. データセットのディレクトリから全javaファイルのパスを取得。\n",
    "2. 取得したものをlizardにかけてメソッドの行数を取得\n",
    "3. ファイルを読み込んでメソッド行数でスプリット\n",
    "4. 結果をDataframeに格納\n",
    "データ構造\n",
    "```typescript\n",
    "dataframeType = {\n",
    "    style: \"training\" | \"validation\" | \"test\";\n",
    "    methods: string; // '    public VerifierException(String message)\\n    {\\n        super(message);\\n    }\\n'\n",
    "}\n",
    "```"
   ]
  },
  {
   "cell_type": "code",
   "execution_count": 1,
   "metadata": {},
   "outputs": [],
   "source": [
    "import pandas as pd\n",
    "import numpy as np\n",
    "import lizard\n",
    "import glob\n",
    "from pprint import pprint\n",
    "from typing import List"
   ]
  },
  {
   "cell_type": "code",
   "execution_count": 2,
   "metadata": {},
   "outputs": [],
   "source": [
    "JAVA_SMALL_RAW_DATA = \"../../data/java-small_raw\" # Data path of java-small_raw\n",
    "STYLES = [\"training\",\"validation\",\"test\"] \n",
    "SAVE_DATA_PATH = \"../../data/1_devided_methods\""
   ]
  },
  {
   "cell_type": "code",
   "execution_count": 3,
   "metadata": {},
   "outputs": [],
   "source": [
    "def get_methods_files(filepath :str) -> List[str]:\n",
    "    liz = lizard.analyze_file(filepath,)\n",
    "    source_code = []\n",
    "    with open(filepath,encoding=\"utf8\", errors='ignore') as f:\n",
    "        source_code = f.readlines()\n",
    "    methods = []\n",
    "    methods.extend( [\"\".join(source_code[liz_func.start_line-1: liz_func.end_line]) for liz_func in liz.function_list])\n",
    "    return methods"
   ]
  },
  {
   "cell_type": "code",
   "execution_count": 4,
   "metadata": {},
   "outputs": [
    {
     "name": "stdout",
     "output_type": "stream",
     "text": [
      "training\n",
      "0\n",
      "1000\n",
      "2000\n",
      "3000\n",
      "4000\n",
      "5000\n",
      "6000\n",
      "7000\n",
      "8000\n",
      "9000\n",
      "10000\n",
      "11000\n",
      "12000\n",
      "13000\n",
      "14000\n",
      "15000\n",
      "16000\n",
      "17000\n",
      "18000\n",
      "19000\n",
      "20000\n",
      "21000\n",
      "22000\n",
      "23000\n",
      "24000\n",
      "25000\n",
      "26000\n",
      "27000\n",
      "28000\n",
      "29000\n",
      "30000\n",
      "31000\n",
      "32000\n",
      "33000\n",
      "34000\n",
      "35000\n",
      "36000\n",
      "37000\n",
      "38000\n",
      "39000\n",
      "40000\n",
      "41000\n",
      "42000\n",
      "43000\n",
      "44000\n",
      "45000\n",
      "46000\n",
      "47000\n",
      "48000\n",
      "49000\n",
      "50000\n",
      "51000\n",
      "52000\n",
      "53000\n",
      "54000\n",
      "55000\n",
      "56000\n",
      "57000\n",
      "58000\n",
      "59000\n",
      "60000\n",
      "61000\n",
      "62000\n",
      "63000\n",
      "64000\n",
      "65000\n",
      "66000\n",
      "67000\n",
      "68000\n",
      "69000\n",
      "70000\n",
      "71000\n",
      "72000\n",
      "73000\n",
      "74000\n",
      "75000\n",
      "76000\n",
      "77000\n",
      "78000\n",
      "79000\n",
      "80000\n",
      "81000\n",
      "82000\n",
      "83000\n",
      "84000\n",
      "85000\n",
      "86000\n",
      "87000\n",
      "88000\n",
      "89000\n",
      "validation\n",
      "0\n",
      "1000\n",
      "test\n",
      "0\n",
      "1000\n",
      "2000\n",
      "3000\n",
      "4000\n",
      "5000\n"
     ]
    }
   ],
   "source": [
    "\n",
    "df_methods = None\n",
    "for style in STYLES:\n",
    "    filepaths = glob.glob(f\"{JAVA_SMALL_RAW_DATA}/{style}/**/*\")\n",
    "    print(style)\n",
    "    for i,filepath in enumerate(filepaths):\n",
    "        if i%1000 == 0:print(i) \n",
    "        methods = get_methods_files(filepath)\n",
    "        temp_df = pd.DataFrame({\"style\": [style]*len(methods),\"method_code\":methods})\n",
    "        if df_methods is None:\n",
    "            df_methods = temp_df\n",
    "        else:\n",
    "            df_methods = pd.concat([df_methods, temp_df])\n",
    "df_methods=df_methods.reset_index(drop=True)\n",
    "df_methods.to_pickle(f\"{SAVE_DATA_PATH}/1_devided_methods.pickle\")\n"
   ]
  },
  {
   "cell_type": "code",
   "execution_count": null,
   "metadata": {},
   "outputs": [],
   "source": [
    "df_methods"
   ]
  },
  {
   "cell_type": "code",
   "execution_count": null,
   "metadata": {},
   "outputs": [],
   "source": []
  }
 ],
 "metadata": {
  "interpreter": {
   "hash": "bf74e605ca45326d366aeb9798c09a73dcf22763cd00bc7174aeb1a93a3708ce"
  },
  "kernelspec": {
   "display_name": "Python 3.8.9 ('my-code2seq--AymwJLs')",
   "language": "python",
   "name": "python3"
  },
  "language_info": {
   "codemirror_mode": {
    "name": "ipython",
    "version": 3
   },
   "file_extension": ".py",
   "mimetype": "text/x-python",
   "name": "python",
   "nbconvert_exporter": "python",
   "pygments_lexer": "ipython3",
   "version": "3.8.9"
  },
  "orig_nbformat": 4
 },
 "nbformat": 4,
 "nbformat_minor": 2
}
