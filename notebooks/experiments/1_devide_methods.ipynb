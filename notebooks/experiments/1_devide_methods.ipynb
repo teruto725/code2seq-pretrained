{
 "cells": [
  {
   "cell_type": "markdown",
   "metadata": {},
   "source": [
    "# メソッド分離\n",
    "やっていること\n",
    "1. データセットのディレクトリから全javaファイルのパスを取得。\n",
    "2. 取得したものをlizardにかけてメソッドの行数を取得\n",
    "3. ファイルを読み込んでメソッド行数でスプリット\n",
    "4. 結果をDataframeに格納\n",
    "==================\n",
    "やっていること２\n",
    "1. dataframeを取り出す\n",
    "2. 1ファイル1メソッドでファイル出力\n",
    "\n",
    "```typescript\n",
    "dataframeType = {\n",
    "    style: \"training\" | \"validation\" | \"test\";\n",
    "    method_code: string; // '    public VerifierException(String message)\\n    {\\n        super(message);\\n    }\\n'\n",
    "}\n",
    "```"
   ]
  },
  {
   "cell_type": "code",
   "execution_count": 15,
   "metadata": {},
   "outputs": [],
   "source": [
    "import pandas as pd\n",
    "import numpy as np\n",
    "import lizard\n",
    "import glob\n",
    "from pprint import pprint\n",
    "from typing import List"
   ]
  },
  {
   "cell_type": "code",
   "execution_count": 16,
   "metadata": {},
   "outputs": [],
   "source": [
    "JAVA_SMALL_RAW_DATA = \"../../data/java-small_raw_mini\" # 入力データセット\n",
    "STYLES = [\"training\",\"validation\",\"test\"] \n",
    "SAVE_DF_PATH = \"../../data/1_devided_methods_mini/df\" # DATAFRAMEの出力ディレクトリ"
   ]
  },
  {
   "cell_type": "code",
   "execution_count": 17,
   "metadata": {},
   "outputs": [],
   "source": [
    "def get_methods_files(filepath :str) -> List[str]:\n",
    "    liz = lizard.analyze_file(filepath,)\n",
    "    source_code = []\n",
    "    with open(filepath,encoding=\"utf8\", errors='ignore') as f:\n",
    "        source_code = f.readlines()\n",
    "    methods = []\n",
    "    methods.extend( [\"\".join(source_code[liz_func.start_line-1: liz_func.end_line]) for liz_func in liz.function_list])\n",
    "    return methods"
   ]
  },
  {
   "cell_type": "code",
   "execution_count": 18,
   "metadata": {},
   "outputs": [
    {
     "name": "stdout",
     "output_type": "stream",
     "text": [
      "training\n",
      "0\n",
      "validation\n",
      "0\n",
      "test\n",
      "0\n"
     ]
    }
   ],
   "source": [
    "\n",
    "df_methods = None\n",
    "for style in STYLES:\n",
    "    filepaths = glob.glob(f\"{JAVA_SMALL_RAW_DATA}/{style}/**/*\")\n",
    "    print(style)\n",
    "    for i,filepath in enumerate(filepaths):\n",
    "        if i%1000 == 0:print(i) \n",
    "        methods = get_methods_files(filepath)\n",
    "        temp_df = pd.DataFrame({\"style\": [style]*len(methods),\"method_code\":methods})\n",
    "        if df_methods is None:\n",
    "            df_methods = temp_df\n",
    "        else:\n",
    "            df_methods = pd.concat([df_methods, temp_df])\n",
    "df_methods=df_methods.reset_index(drop=True)\n",
    "df_methods.to_pickle(f\"{SAVE_DF_PATH}/1_devided_methods.pkl\")\n"
   ]
  },
  {
   "cell_type": "code",
   "execution_count": 19,
   "metadata": {},
   "outputs": [],
   "source": [
    "\n",
    "SAVE_METHODS_PATH = \"../../data/1_devided_methods_mini/methods\" # DATAFRAMEの出力ディレクトリ\n",
    "# 1_devided_methodsをファイル出力する\n",
    "df = pd.read_pickle(SAVE_DF_PATH+\"/1_devided_methods.pkl\")\n",
    "for style in STYLES:\n",
    "    for i,method_code in enumerate(df[df[\"style\"]==style][\"method_code\"]):\n",
    "        with open(SAVE_METHODS_PATH+\"/\"+style+\"/\"+str(i)+\".java\", mode=\"w\") as f:\n",
    "            f.write(method_code)"
   ]
  },
  {
   "cell_type": "code",
   "execution_count": null,
   "metadata": {},
   "outputs": [],
   "source": []
  }
 ],
 "metadata": {
  "interpreter": {
   "hash": "bf74e605ca45326d366aeb9798c09a73dcf22763cd00bc7174aeb1a93a3708ce"
  },
  "kernelspec": {
   "display_name": "Python 3.8.9 ('my-code2seq--AymwJLs')",
   "language": "python",
   "name": "python3"
  },
  "language_info": {
   "codemirror_mode": {
    "name": "ipython",
    "version": 3
   },
   "file_extension": ".py",
   "mimetype": "text/x-python",
   "name": "python",
   "nbconvert_exporter": "python",
   "pygments_lexer": "ipython3",
   "version": "3.8.9"
  },
  "orig_nbformat": 4
 },
 "nbformat": 4,
 "nbformat_minor": 2
}
